{
 "cells": [
  {
   "cell_type": "markdown",
   "id": "a33e812f-b60a-4f32-b648-f406fa739bf6",
   "metadata": {},
   "source": [
    "Introduction:\n",
    "-\n",
    "\n",
    "Receiving approval for a credit card requires the satisfaction of very specific requirements. Although employment and income might be considered the most influential factors in determining an applicant’s approval, other personal factors might influence an applicant’s approval in unexpected ways. This project sought to evaluate the effects of personal factors on the approval of credit card applications. Specifically, the project’s research question is “What will be the approval status of an individual’s credit card based on their personal information?” The “Credit Card Approvals” dataset, owned by Samuel Cortinhas, was used to answer this question. This dataset includes the personal information of individuals who submitted credit card applications. The variables used in the dataset are Gender, Age, Debt, Ethnicity, Prior Default, Credit Score, Income, and Employment. Relationships between these variables and Approval Status are explored in this project.\n",
    "\n"
   ]
  },
  {
   "cell_type": "markdown",
   "id": "c8a5e139-37c8-4796-abb4-c296b84e619e",
   "metadata": {},
   "source": [
    "Expected outcomes and significance:\n",
    "-\n",
    "\n",
    "We expect that high debt will decrease the chances of approval, and low or no debt will increase chances for approval. This would imply that individuals with high debt are less likely to pay their credit card fees, and thus banks are less likely to approve their applications. On the other hand, we expect that older individuals will have a greater chance of being approved, whereas younger applicants will have less chances of being approved for a credit card. \n",
    "\n",
    "These findings could inform credit card applicants of their chances of receiving approval and the qualities that banks are looking for. For instance, individuals who have high debts will be alerted that their chances of getting approved are relatively smaller than others, which would encourage them to pay off their debts before applying for a credit card.\n"
   ]
  },
  {
   "cell_type": "markdown",
   "id": "8770e83c-b309-4bc0-a870-434e85b9a1db",
   "metadata": {},
   "source": [
    "Data Source:\n",
    "-\n",
    "\n",
    "https://www.kaggle.com/datasets/samuelcortinhas/credit-card-approval-clean-data "
   ]
  },
  {
   "cell_type": "markdown",
   "id": "991ef11b-b909-46f4-8d5a-c9a9ba17531c",
   "metadata": {},
   "source": [
    "First we downloaded the appropriate libraries and packages, including Repr, Tidyverse, Tidymodels, and GGally into our Jupyter notebook. The additional package GGally allowed us to utilize `ggpairs()` and display the relationships between each of our chosen variables in the best way possible."
   ]
  },
  {
   "cell_type": "code",
   "execution_count": 1,
   "id": "cd64704e-5b7c-4541-8826-68ead1ffeae5",
   "metadata": {
    "tags": []
   },
   "outputs": [
    {
     "name": "stderr",
     "output_type": "stream",
     "text": [
      "Updating HTML index of packages in '.Library'\n",
      "\n",
      "Making 'packages.html' ...\n",
      " done\n",
      "\n",
      "also installing the dependencies ‘broom.helpers’, ‘ggstats’\n",
      "\n",
      "\n",
      "Warning message in install.packages(\"GGally\"):\n",
      "“installation of package ‘broom.helpers’ had non-zero exit status”\n",
      "Warning message in install.packages(\"GGally\"):\n",
      "“installation of package ‘ggstats’ had non-zero exit status”\n",
      "Warning message in install.packages(\"GGally\"):\n",
      "“installation of package ‘GGally’ had non-zero exit status”\n",
      "Updating HTML index of packages in '.Library'\n",
      "\n",
      "Making 'packages.html' ...\n",
      " done\n",
      "\n",
      "── \u001b[1mAttaching packages\u001b[22m ─────────────────────────────────────── tidyverse 1.3.2 ──\n",
      "\u001b[32m✔\u001b[39m \u001b[34mggplot2\u001b[39m 3.4.4     \u001b[32m✔\u001b[39m \u001b[34mpurrr  \u001b[39m 1.0.1\n",
      "\u001b[32m✔\u001b[39m \u001b[34mtibble \u001b[39m 3.2.1     \u001b[32m✔\u001b[39m \u001b[34mdplyr  \u001b[39m 1.1.1\n",
      "\u001b[32m✔\u001b[39m \u001b[34mtidyr  \u001b[39m 1.3.0     \u001b[32m✔\u001b[39m \u001b[34mstringr\u001b[39m 1.5.0\n",
      "\u001b[32m✔\u001b[39m \u001b[34mreadr  \u001b[39m 2.1.3     \u001b[32m✔\u001b[39m \u001b[34mforcats\u001b[39m 0.5.2\n",
      "── \u001b[1mConflicts\u001b[22m ────────────────────────────────────────── tidyverse_conflicts() ──\n",
      "\u001b[31m✖\u001b[39m \u001b[34mdplyr\u001b[39m::\u001b[32mfilter()\u001b[39m masks \u001b[34mstats\u001b[39m::filter()\n",
      "\u001b[31m✖\u001b[39m \u001b[34mdplyr\u001b[39m::\u001b[32mlag()\u001b[39m    masks \u001b[34mstats\u001b[39m::lag()\n",
      "── \u001b[1mAttaching packages\u001b[22m ────────────────────────────────────── tidymodels 1.0.0 ──\n",
      "\n",
      "\u001b[32m✔\u001b[39m \u001b[34mbroom       \u001b[39m 1.0.2     \u001b[32m✔\u001b[39m \u001b[34mrsample     \u001b[39m 1.1.1\n",
      "\u001b[32m✔\u001b[39m \u001b[34mdials       \u001b[39m 1.1.0     \u001b[32m✔\u001b[39m \u001b[34mtune        \u001b[39m 1.0.1\n",
      "\u001b[32m✔\u001b[39m \u001b[34minfer       \u001b[39m 1.0.4     \u001b[32m✔\u001b[39m \u001b[34mworkflows   \u001b[39m 1.1.2\n",
      "\u001b[32m✔\u001b[39m \u001b[34mmodeldata   \u001b[39m 1.0.1     \u001b[32m✔\u001b[39m \u001b[34mworkflowsets\u001b[39m 1.0.0\n",
      "\u001b[32m✔\u001b[39m \u001b[34mparsnip     \u001b[39m 1.0.3     \u001b[32m✔\u001b[39m \u001b[34myardstick   \u001b[39m 1.1.0\n",
      "\u001b[32m✔\u001b[39m \u001b[34mrecipes     \u001b[39m 1.0.4     \n",
      "\n",
      "── \u001b[1mConflicts\u001b[22m ───────────────────────────────────────── tidymodels_conflicts() ──\n",
      "\u001b[31m✖\u001b[39m \u001b[34mscales\u001b[39m::\u001b[32mdiscard()\u001b[39m masks \u001b[34mpurrr\u001b[39m::discard()\n",
      "\u001b[31m✖\u001b[39m \u001b[34mdplyr\u001b[39m::\u001b[32mfilter()\u001b[39m   masks \u001b[34mstats\u001b[39m::filter()\n",
      "\u001b[31m✖\u001b[39m \u001b[34mrecipes\u001b[39m::\u001b[32mfixed()\u001b[39m  masks \u001b[34mstringr\u001b[39m::fixed()\n",
      "\u001b[31m✖\u001b[39m \u001b[34mdplyr\u001b[39m::\u001b[32mlag()\u001b[39m      masks \u001b[34mstats\u001b[39m::lag()\n",
      "\u001b[31m✖\u001b[39m \u001b[34myardstick\u001b[39m::\u001b[32mspec()\u001b[39m masks \u001b[34mreadr\u001b[39m::spec()\n",
      "\u001b[31m✖\u001b[39m \u001b[34mrecipes\u001b[39m::\u001b[32mstep()\u001b[39m   masks \u001b[34mstats\u001b[39m::step()\n",
      "\u001b[34m•\u001b[39m Dig deeper into tidy modeling with R at \u001b[32mhttps://www.tmwr.org\u001b[39m\n",
      "\n"
     ]
    },
    {
     "ename": "ERROR",
     "evalue": "Error in library(GGally): there is no package called ‘GGally’\n",
     "output_type": "error",
     "traceback": [
      "Error in library(GGally): there is no package called ‘GGally’\nTraceback:\n",
      "1. library(GGally)"
     ]
    }
   ],
   "source": [
    "#should install packages: kknn, GGally\n",
    "install.packages(\"kknn\")\n",
    "install.packages(\"GGally\")\n",
    "library(kknn)\n",
    "library(repr)\n",
    "library(tidyverse)\n",
    "library(tidymodels)\n",
    "library(GGally)"
   ]
  },
  {
   "cell_type": "markdown",
   "id": "b7b6ea06-6a34-4770-923f-424d8bd185a7",
   "metadata": {},
   "source": [
    "Assigned the raw data file of our dataset “Credit Card Approvals (Clean Data)” to the object `url`, then read in the data and assigned it to `credit_data`"
   ]
  },
  {
   "cell_type": "code",
   "execution_count": null,
   "id": "383d291b-d27e-4ad8-9327-ae0a0d5104ae",
   "metadata": {
    "tags": []
   },
   "outputs": [],
   "source": [
    "url <- \"https://raw.githubusercontent.com/bcruz29/DSCI-100-Group-Project/main/clean_dataset.csv\"\n",
    "\n",
    "credit_data <- read.csv(url)"
   ]
  },
  {
   "cell_type": "markdown",
   "id": "68ae1795-841a-4d1f-86ae-57625d865341",
   "metadata": {},
   "source": [
    "Selected our variables that are going to be considered for training and visualization, converted values from Approved to “True” and “False”, and checked for missing data which there was none of."
   ]
  },
  {
   "cell_type": "code",
   "execution_count": null,
   "id": "003b2e0e-5182-442c-819b-e95d35c35b64",
   "metadata": {
    "tags": []
   },
   "outputs": [],
   "source": [
    "credit_data <- credit_data |>\n",
    "    select(Gender, Age, Debt, PriorDefault, Employed, CreditScore, Income, Approved) \n",
    "# Gender Male = 1, Female = 0\n",
    "\n",
    "credit_data <- credit_data |>\n",
    "    mutate(Gender = as.numeric(Gender), PriorDefault = as.numeric(PriorDefault), \n",
    "           Employed = as.numeric(Employed), Approved = as.factor(Approved))\n",
    "\n",
    "credit_data <- credit_data |>\n",
    "    mutate(Approved = fct_recode(Approved, \"True\" = \"1\", \"False\" = \"0\"))\n",
    "\n",
    "\n",
    "\n",
    "\n",
    "missing <- sum(is.na(credit_data)) # Checking for any missing datas\n",
    "missing \n",
    "\n",
    "head(credit_data)"
   ]
  },
  {
   "cell_type": "markdown",
   "id": "2e81de4f-8575-4b60-ae4b-870aba57710c",
   "metadata": {},
   "source": [
    "Here we used `ggpairs()` to plot every variable against each other in an organized grid. As well, we created a legend that shows that the `Approval` variable is used with the `color` aesthetic to help us understand how each variable influences approval status."
   ]
  },
  {
   "cell_type": "code",
   "execution_count": null,
   "id": "180bd4dc-f20c-410f-b9d4-ac91c9ff0fed",
   "metadata": {
    "tags": []
   },
   "outputs": [],
   "source": [
    "options(repr.prod.width = 40, repr.prod.height = 15)\n",
    "\n",
    "credit_pairs <- credit_data |> \n",
    "    select(Gender:Approved) |>\n",
    "    ggpairs(legend = 1, aes(color = Approved, alpha = 0.05)) +\n",
    "    labs(fill = \"Approved\") +\n",
    "    theme(text = element_text(size = 20)) +\n",
    "    ggtitle(\"Figure 1: GGpairs for different variables\")\n",
    "credit_pairs"
   ]
  },
  {
   "cell_type": "markdown",
   "id": "3c5ac2d4-078a-4c5d-a949-68a4f740b47a",
   "metadata": {},
   "source": [
    "A graph of ggpair was created to compare the relationships between different variables with appropriate sizes and labels."
   ]
  },
  {
   "cell_type": "markdown",
   "id": "a72a279b-a6cf-4483-890e-c6180fef644b",
   "metadata": {},
   "source": [
    "Here we split the data into two sets: one training set (75% of the original data set) and one testing set. We assigned the training set to the object `credit_train`, and the testing set to the object `credit_test`."
   ]
  },
  {
   "cell_type": "code",
   "execution_count": null,
   "id": "bdf7d340-ef6c-4ad0-8d91-6b3ab78abca9",
   "metadata": {
    "tags": []
   },
   "outputs": [],
   "source": [
    "set.seed(1)  # Don't Change\n",
    "\n",
    "credit_split <- initial_split(credit_data, prop = 0.75, strata = Approved)  \n",
    "credit_train <- training(credit_split)   \n",
    "credit_test <- testing(credit_split)"
   ]
  },
  {
   "cell_type": "markdown",
   "id": "4a81424c-1a64-481c-b621-bdf81f1dde5a",
   "metadata": {},
   "source": [
    "The means of the variables were taken to provide some statistical summary, then the `Approval` variable was grouped into two categories(Approved and not approved) to check if the numbers of Approved and not approved observations were divided equally. "
   ]
  },
  {
   "cell_type": "code",
   "execution_count": null,
   "id": "1c0bf732-421f-41d1-b3e2-f40bcf7366da",
   "metadata": {
    "tags": []
   },
   "outputs": [],
   "source": [
    "mean_table <- credit_train |>\n",
    "    summarize(mean_age = mean(Age), \n",
    "              mean_debt = mean(Debt),\n",
    "                mean_income = mean(Income),\n",
    "             mean_credit_score = mean(CreditScore))\n",
    "\n",
    "observation_table <- credit_train |> \n",
    "    group_by(Approved) |>\n",
    "    count()\n",
    "\n",
    "mean_table\n",
    "observation_table"
   ]
  },
  {
   "cell_type": "markdown",
   "id": "df7a46bf-4764-436f-89ab-423066504c5a",
   "metadata": {},
   "source": [
    "A recipe and a model specification had been made as initial steps to start the classification. The model had been set to knn-classification, and the data points were standardized in order to make the observations comparable."
   ]
  },
  {
   "cell_type": "code",
   "execution_count": null,
   "id": "0b7a05ab-8df6-4627-8683-5fb3167ef6b7",
   "metadata": {
    "tags": []
   },
   "outputs": [],
   "source": [
    "#Preprocessing Data for Recipe and Spec\n",
    "\n",
    "knn_recipe <- recipe(Approved ~ . , data = credit_train) |>\n",
    "    step_scale(all_predictors()) |>\n",
    "    step_center(all_predictors())\n",
    "\n",
    "knn_spec <- nearest_neighbor(weight_func = \"rectangular\", neighbors = tune()) |>\n",
    "    set_engine(\"kknn\") |>\n",
    "    set_mode(\"classification\")"
   ]
  },
  {
   "cell_type": "markdown",
   "id": "889dbad3-fc67-4887-8f8e-6ba1592fa844",
   "metadata": {},
   "source": [
    "A workflow was created to combine the model and the recipe, fitting the data onto the model. "
   ]
  },
  {
   "cell_type": "code",
   "execution_count": null,
   "id": "6fcc8061-8c57-4d47-804d-f8a265080f27",
   "metadata": {
    "tags": []
   },
   "outputs": [],
   "source": [
    "k_fit <- workflow() |>\n",
    "      add_recipe(knn_recipe) |>\n",
    "      add_model(knn_spec) |>\n",
    "    fit(data = credit_train)"
   ]
  },
  {
   "cell_type": "markdown",
   "id": "29dba8e7-5cb0-4f69-98f2-d58185a5ea2e",
   "metadata": {
    "tags": []
   },
   "source": [
    "Prepared 5 fold cross validation"
   ]
  },
  {
   "cell_type": "code",
   "execution_count": null,
   "id": "8323aa56-0a0d-40bc-90d5-6fb2f324f143",
   "metadata": {
    "tags": []
   },
   "outputs": [],
   "source": [
    "k_vfold <- vfold_cv(credit_train, v = 5, strata = Approved)\n",
    "\n",
    "# 5 fold cross validation "
   ]
  },
  {
   "cell_type": "markdown",
   "id": "87349483-afbc-4344-8678-b7f45b6cfe14",
   "metadata": {},
   "source": [
    "The seq function was used to check neighbors from 1 to 50 by stepping by 3. \n"
   ]
  },
  {
   "cell_type": "code",
   "execution_count": null,
   "id": "a7513c8b-2cf8-4f93-98a7-b345bc07d6c9",
   "metadata": {
    "tags": []
   },
   "outputs": [],
   "source": [
    "k_vals <- tibble(neighbors = seq(from = 1, to = 50, by = 3))\n",
    "\n",
    "# Checking all K neighbors from 1 to 50 by 3"
   ]
  },
  {
   "cell_type": "markdown",
   "id": "46ae913a-621b-4679-b0e1-a96d97590bf8",
   "metadata": {
    "tags": []
   },
   "source": [
    "Retrieves the results from the cross validation. "
   ]
  },
  {
   "cell_type": "code",
   "execution_count": null,
   "id": "10bdfe8f-a21b-48c2-938f-071763f63428",
   "metadata": {
    "tags": []
   },
   "outputs": [],
   "source": [
    "knn_results <- k_fit |>\n",
    "    tune_grid(resamples = k_vfold, grid = k_vals) |>\n",
    "    collect_metrics()"
   ]
  },
  {
   "cell_type": "code",
   "execution_count": null,
   "id": "985cb74b-f758-49c1-b674-36a47bdabb6e",
   "metadata": {
    "tags": []
   },
   "outputs": [],
   "source": [
    "knn_results"
   ]
  },
  {
   "cell_type": "markdown",
   "id": "180c40c2-e5a6-4e7a-8b3d-dffe8d764a05",
   "metadata": {},
   "source": [
    "Accuracy Estimates are plotted in the vertical axis while the Neighbors are plotted in the horizontal axis to compare and find the Neighbor with the highest accuracy. "
   ]
  },
  {
   "cell_type": "code",
   "execution_count": null,
   "id": "0f0a9d8d-6e87-4213-8eda-3624feefb772",
   "metadata": {
    "tags": []
   },
   "outputs": [],
   "source": [
    "accuracies <- knn_results |>\n",
    "    filter(.metric == \"accuracy\")\n",
    "\n",
    "cross_val_plot <- accuracies |>\n",
    "    ggplot(aes(x = neighbors, y = mean)) +\n",
    "    geom_point() + \n",
    "    geom_line() +\n",
    "    labs(x = \"Neighbors\", y = \"Accuracy Estimate\")"
   ]
  },
  {
   "cell_type": "code",
   "execution_count": null,
   "id": "89a90665-323c-47f4-a531-24a49a645f3c",
   "metadata": {
    "tags": []
   },
   "outputs": [],
   "source": [
    "cross_val_plot\n",
    "\n",
    "# Plotting each K value for it's accuracy"
   ]
  },
  {
   "cell_type": "markdown",
   "id": "61305146-e28a-4d59-97b3-d8beaea9576e",
   "metadata": {},
   "source": [
    "We choose K = 49 since it has the highest accuracy, changing the K by some numbers doesn't change the accuracy largely, and cost of training the model isn't expensive."
   ]
  },
  {
   "cell_type": "code",
   "execution_count": null,
   "id": "3a4b0476-190f-4b71-bf2c-20e9d08dabdf",
   "metadata": {
    "tags": []
   },
   "outputs": [],
   "source": [
    "knn_best_spec <- nearest_neighbor(weight_func = \"rectangular\", neighbors = 49) |>\n",
    "    set_engine(\"kknn\") |>\n",
    "    set_mode(\"classification\")\n",
    "\n",
    "# Now I'm using our best neighbor from above."
   ]
  },
  {
   "cell_type": "markdown",
   "id": "77691a5e-2812-4359-b41e-42c61fa7bef7",
   "metadata": {},
   "source": [
    "The classifier is being trained again with the finest neighbor found from previous work steps. \n"
   ]
  },
  {
   "cell_type": "code",
   "execution_count": null,
   "id": "d84b966c-2533-4d72-939f-c8b7092f3656",
   "metadata": {
    "tags": []
   },
   "outputs": [],
   "source": [
    "k_best_fit <- workflow() |>\n",
    "      add_recipe(knn_recipe) |>\n",
    "      add_model(knn_best_spec) |>\n",
    "    fit(data = credit_train)"
   ]
  },
  {
   "cell_type": "markdown",
   "id": "69507ea4-a9e9-4366-9d77-022ef2e25f72",
   "metadata": {},
   "source": [
    "The test data set is being predicted with the trained classifier. k_metrics is the performance evaluation for accuracy. \n"
   ]
  },
  {
   "cell_type": "code",
   "execution_count": null,
   "id": "e33afae9-3ac1-4f1f-8299-c7611adaa3c4",
   "metadata": {
    "tags": []
   },
   "outputs": [],
   "source": [
    "k_predictions <- predict(k_best_fit, credit_test) |>\n",
    "    bind_cols(credit_test)\n",
    "\n",
    "k_metrics <- k_predictions |>\n",
    "    metrics(truth = Approved, estimate = .pred_class) |>\n",
    "    filter(.metric == \"accuracy\") \n",
    "\n",
    "k_metrics\n",
    "\n",
    "# This progress is using our test data to examine our model's ability.\n",
    "\n",
    "# Below is our model's accuracy "
   ]
  },
  {
   "cell_type": "markdown",
   "id": "477258a0-9994-4115-923b-61b04193aa3c",
   "metadata": {},
   "source": [
    "The confusion matrix was composed to compare the true and prediction values."
   ]
  },
  {
   "cell_type": "code",
   "execution_count": null,
   "id": "900d98ab-8d6d-4d0b-8079-1ee8efaf06a2",
   "metadata": {
    "tags": []
   },
   "outputs": [],
   "source": [
    "k_conf_mat <- k_predictions |>\n",
    "    conf_mat(truth = Approved, estimate = .pred_class)\n",
    "\n",
    "k_conf_mat\n",
    "# Our confusion matrix "
   ]
  },
  {
   "cell_type": "code",
   "execution_count": null,
   "id": "2d51cc67-74a5-41da-b64a-9204da98bbc7",
   "metadata": {
    "tags": []
   },
   "outputs": [],
   "source": [
    "# Gender Age Debt PriorDefault Employed CreditScore Income Approved\n",
    "male_one <- tibble(Gender = 1, Age = 23, Debt = 0, PriorDefault = 0, Employed = 1, CreditScore = 40, Income = 500)\n",
    "predict(k_best_fit, male_one)\n",
    "    \n",
    "male_two <- tibble(Gender = 1, Age = 19, Debt = 0, PriorDefault = 0, Employed = 1, CreditScore = 40, Income = 1500)\n",
    "predict(k_best_fit, male_two)\n",
    "\n",
    "female_one <- tibble(Gender = 0, Age = 21, Debt = 0, PriorDefault = 0, Employed = 1, CreditScore = 40, Income = 1000)\n",
    "predict(k_best_fit, female_one)\n",
    "\n",
    "female_two <- tibble(Gender = 0, Age = 19, Debt = 0, PriorDefault = 0, Employed = 0, CreditScore = 40, Income = 0)\n",
    "predict(k_best_fit, female_two)"
   ]
  },
  {
   "cell_type": "code",
   "execution_count": null,
   "id": "c66ba934-6955-4e3a-844f-71052729292f",
   "metadata": {
    "tags": []
   },
   "outputs": [],
   "source": [
    "male_one <- tibble(Gender = 1, Age = 23, Debt = 0, PriorDefault = 0, Employed = 1, CreditScore = 0, Income = 500)\n",
    "predict(k_best_fit, male_one)\n",
    "    \n",
    "male_two <- tibble(Gender = 1, Age = 19, Debt = 0, PriorDefault = 0, Employed = 1, CreditScore = 0, Income = 1500)\n",
    "predict(k_best_fit, male_two)\n",
    "\n",
    "female_one <- tibble(Gender = 0, Age = 21, Debt = 0, PriorDefault = 0, Employed = 1, CreditScore = 0, Income = 1000)\n",
    "predict(k_best_fit, female_one)\n",
    "\n",
    "female_two <- tibble(Gender = 0, Age = 19, Debt = 0, PriorDefault = 0, Employed = 0, CreditScore = 0, Income = 0)\n",
    "predict(k_best_fit, female_two)"
   ]
  },
  {
   "cell_type": "markdown",
   "id": "a0722e9d-633a-4529-852c-cbbbcaf2239d",
   "metadata": {},
   "source": [
    "Discussing the Impact of Credit Score Using Our Own Data:\n",
    "- \n",
    "\n",
    "We have tried to fit customized personal information into the predicting variables and make predictions from them. The results suggest that the variable “credit score” is more heavily weighted than other variables in terms of predicting card credit approvals. By applying the same credit score rate on all four customized individuals, the predictor approves credit cards when the score rate is high and rejects them when the score rate is low. However, changing other variables won’t change the final prediction as much. For instance, an individual with a relatively high income and an individual with low income both have been approved for credit cards when they have the same high credit score rate. Therefore, our model suggests that “credit score” is weighted more than other variables, it can influence the final decision of credit card approvals more easily than others. "
   ]
  },
  {
   "cell_type": "code",
   "execution_count": null,
   "id": "24bcd53a-e44b-43fa-a64f-5797d05fb035",
   "metadata": {},
   "outputs": [],
   "source": [
    "graph_credit <- credit_data |> \n",
    "    ggplot(aes(x = Age, y = CreditScore)) + \n",
    "        geom_point() + \n",
    "        labs(x = \"Age\", y = \"Credit Score\") + \n",
    "        ggtitle(\"The impact of Credit score and Age on the Approval status\") + \n",
    "        theme(text = element_text(size = 12))\n",
    "graph_credit"
   ]
  },
  {
   "cell_type": "markdown",
   "id": "387ea5bc-a334-471c-bd69-d7fb886f8f19",
   "metadata": {
    "jp-MarkdownHeadingCollapsed": true,
    "tags": []
   },
   "source": [
    "Evaluation and Discussion of Results:\n",
    "- \n",
    "\n",
    "- Our function for credit card approval is too complex to make conclusions based on only two variables. Moreover, some variables, including employment, gender, and prior default, have shown no patterns and no trends when plotted. Therefore, we will use the other variables to build on our discussion. \n",
    "\n",
    "- One of the graphs that we produced showed that individuals with lower age and lower debt were more likely to be denied approval for their credit card applications. However, individuals with higher age and higher debt were more likely to be approved for receiving a credit card. We expected that older applicants would be more likely to receive approval than younger applicants because they may have more life and work experience. However, we did not expect that individuals with high debt to be more likely to receive approval. We can hypothesize, however, that these individuals with high debt might be using their money to buy a house or invest in assets, which would be considered “beneficial” debt. \n",
    "- Another graph showed a correlation between credit score and approval status. A higher credit score is correlated with approved status for credit card applications, and lower credit score is associated with denied status. This is expected because credit scores should help banks determine the probability that applicants will pay back the money that was borrowed.\n",
    "- Likewise, another graph showed that most applicants with higher income get approved, while applicants with lower income get denied. Again, this is an expected outcome because individuals with more money are expected to pay back the banks on time.  \n",
    "- Overall, our results indicate that age, debt, income, and credit score primarily play a role in dictating the approval status of applicants.\n",
    "- Based on an article released by Scotiabank on what credit score an applicant would need to be approved for a credit card, higher credit scores indicate a better chance at approval. However, the article confirms that credit score is not the only factor being considered by banks, as other personal characteristics and factors are taken into account. This supports our results because debt, age, and income are all factors that have been found to influence credit card approval status."
   ]
  },
  {
   "cell_type": "markdown",
   "id": "82d2d0dc-cb0f-4bb7-bca5-f8c7686b6a5e",
   "metadata": {},
   "source": [
    "Impact of Findings:\n",
    "- \n",
    "\n",
    "- Data from our model indicates that personal factors including age, debt, income, and credit score are the only factors that play a role in credit card approval. This shows that banks do not show illegal bias or discrimination against applicants because this personal information is legally acquired and used by banks to determine any applicant's approval status.\n",
    "\n",
    "- Since other variables like ethnicity and gender have no relationship with credit card approval based on our model, we can confirm that there is no indication of any illegal bias present in their methods of credit card issuing.\n",
    "\n",
    "- In summary, our findings can have a considerable impact on the public perception of credit-issuing banks, considering the history of biased banks in North America. For example, “At the Boundaries of Homeownership”, written by Chloe N. Thurston, details a critical moment in American history regarding the Women’s Equity Action League and its president Arvonne Fraser. The aim of the group was “to convince the government to extend the existing ban on mortgage discrimination by race, national origin, and color to cover marital status and sex as well, and for legislation that dealt with sex discrimination in consumer lending generally.” In the case of Fraser and the Women’s Equity Action League, they saw bias from banking institutions in the United States with regard to consumer lending and took legal action to challenge this issue. Knowing this moment in history, we can see how our project takes a look at the credit card issuing facet of consumer lending in North America as it stands today and ensures that there is still no illegal bias present.\n",
    "\n",
    "\n",
    "\n",
    "\n"
   ]
  },
  {
   "cell_type": "markdown",
   "id": "1a8a2480-66a0-4620-8c33-1639c9e9add8",
   "metadata": {},
   "source": [
    "Future Questions:\n",
    "-\n",
    "The result of this study could lead to a variety of future questions:\n",
    "\n",
    "- Are credit card approval rates different across different regional banks? (Data trends found through our results indicated that there was no illegal bias present on behalf of credit card issuers. There is no mention of which banks/credit card issuers are being considered in the curation of this dataset, but we can see that they meet the North American legal standards of legal credit card issuing.)\n",
    "\n",
    "- Are there any other variables, excluding the ones this study touched on, that could possibly suggest signs of biases and discrimination on credit card approvals?  \n",
    "\n",
    "- Is the current banks’ credit approval system fair? Can the study be representative of credit card approval systems for most of the banks?\n"
   ]
  },
  {
   "cell_type": "markdown",
   "id": "c88ffa5e-6575-41a4-96c6-63a19790e905",
   "metadata": {},
   "source": [
    "References:\n",
    "- \n",
    "Scotiabank. (2023, July 6). What credit score do you need for a credit card?. https://www.scotiabank.com:443/content/scotiabank/ca/en/personal/advice-plus/features/posts.what-credit-score-do-you-need-for-a-credit-card.html\n",
    "    \n",
    "Thurston, C. (2018). Bankers in the Bedroom. In At the Boundaries of Homeownership: Credit, \n",
    "    Discrimination, and the American State (pp. 142-182). Cambridge University. \n",
    "    Press. https://doi.org/10.1017/9781108380058.006 \n",
    "    \n",
    "Cortinhas, S. (2021). UC Irvine. \n",
    "    https://www.kaggle.com/datasets/samuelcortinhas/credit-card-approval-clean-data \n",
    "\n"
   ]
  },
  {
   "cell_type": "code",
   "execution_count": null,
   "id": "babd493c-0375-4197-b05a-bf9109df700b",
   "metadata": {},
   "outputs": [],
   "source": []
  }
 ],
 "metadata": {
  "kernelspec": {
   "display_name": "R",
   "language": "R",
   "name": "ir"
  },
  "language_info": {
   "codemirror_mode": "r",
   "file_extension": ".r",
   "mimetype": "text/x-r-source",
   "name": "R",
   "pygments_lexer": "r",
   "version": "4.2.2"
  },
  "widgets": {
   "application/vnd.jupyter.widget-state+json": {
    "state": {},
    "version_major": 2,
    "version_minor": 0
   }
  }
 },
 "nbformat": 4,
 "nbformat_minor": 5
}
